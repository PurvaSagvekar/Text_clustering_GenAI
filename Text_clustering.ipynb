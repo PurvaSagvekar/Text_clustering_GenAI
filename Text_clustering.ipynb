{
 "cells": [
  {
   "cell_type": "markdown",
   "id": "54813e33-c371-43a5-9db4-b273c2094098",
   "metadata": {},
   "source": [
    "# Cosine Similarity"
   ]
  },
  {
   "cell_type": "code",
   "execution_count": 1,
   "id": "652f4042-ce00-4e48-aff8-b0c48a7fad85",
   "metadata": {},
   "outputs": [],
   "source": [
    "from sklearn.feature_extraction.text import TfidfVectorizer \n",
    "from sklearn.metrics.pairwise import cosine_similarity "
   ]
  },
  {
   "cell_type": "code",
   "execution_count": 2,
   "id": "bb3ff794-941a-4f0d-9b9e-f18bff9ef898",
   "metadata": {},
   "outputs": [
    {
     "name": "stdout",
     "output_type": "stream",
     "text": [
      "[[1.         0.14438356]]\n"
     ]
    }
   ],
   "source": [
    "texts = [\"Global Warming is here.\", \"Ocean temperature is rising.\"] \n",
    "vectorizer = TfidfVectorizer() \n",
    "tfidf_matrix = vectorizer.fit_transform(texts) \n",
    "cos_sim = cosine_similarity(tfidf_matrix[0:1], tfidf_matrix) \n",
    "print(cos_sim)#[[1.   0.14438356]] "
   ]
  },
  {
   "cell_type": "markdown",
   "id": "6f3ad928-c3fc-4a30-8f7a-a8a10e2cb0bb",
   "metadata": {},
   "source": [
    "# Jaccard Similarity "
   ]
  },
  {
   "cell_type": "code",
   "execution_count": 3,
   "id": "4fb9ba48-d9ee-476d-9bdc-8f7005da0ed4",
   "metadata": {},
   "outputs": [],
   "source": [
    "def jaccard_similarity(str1, str2): \n",
    "       a = set(str1.split()) \n",
    "       b = set(str2.split()) \n",
    "       return float(len(a & b)) / len(a | b) "
   ]
  },
  {
   "cell_type": "code",
   "execution_count": 4,
   "id": "364926c2-2272-4beb-93fd-39ed8e67e46b",
   "metadata": {},
   "outputs": [
    {
     "name": "stdout",
     "output_type": "stream",
     "text": [
      "0.25\n"
     ]
    }
   ],
   "source": [
    "text1 = \"I love natural language processing\" \n",
    "text2 = \"Natural language processing is amazing\" \n",
    "print(jaccard_similarity(text1, text2)) #0.25 "
   ]
  },
  {
   "cell_type": "markdown",
   "id": "5b05d1b5-ccc5-4bde-9a4d-bb622abb865d",
   "metadata": {},
   "source": [
    "# Levenshtein Distance "
   ]
  },
  {
   "cell_type": "code",
   "execution_count": 5,
   "id": "09227ad3-b2c0-469e-8ee8-eeee560e0679",
   "metadata": {},
   "outputs": [],
   "source": [
    " import numpy as np"
   ]
  },
  {
   "cell_type": "code",
   "execution_count": 14,
   "id": "f62e24c8-346f-4dd6-b748-05d8ab8802bb",
   "metadata": {},
   "outputs": [],
   "source": [
    "def levenshtein_distance(str1, str2): \n",
    "    matrix = np.zeros((len(str1) + 1, len(str2) + 1)) \n",
    "    #matrix = [[0,0,0,0,0,0,0], [0,0,0,0,0,0,0]]\n",
    "    for x in range(len(str1) + 1): \n",
    "        matrix[x, 0] = x \n",
    "    for y in range(len(str2) + 1): \n",
    "        matrix[0, y] = y \n",
    "    for x in range(1, len(str1) + 1): \n",
    "        for y in range(1, len(str2) + 1): \n",
    "            if str1[x-1] == str2[y-1]: \n",
    "                matrix[x, y] = matrix[x-1, y-1] \n",
    "            else: \n",
    "                matrix[x, y] = min(matrix[x-1, y] + 1, matrix[x, y-1] + 1, matrix[x-1, y-1] + 1) \n",
    "    return matrix[len(str1), len(str2)] "
   ]
  },
  {
   "cell_type": "code",
   "execution_count": 15,
   "id": "2614aa93-dfae-4ca7-992b-64645bc110f8",
   "metadata": {},
   "outputs": [
    {
     "name": "stdout",
     "output_type": "stream",
     "text": [
      "3.0\n"
     ]
    }
   ],
   "source": [
    "print(levenshtein_distance(\"kitten\", \"sitting\"))"
   ]
  },
  {
   "cell_type": "code",
   "execution_count": null,
   "id": "c43023a4-637c-45cb-acf2-2de9454466a3",
   "metadata": {},
   "outputs": [],
   "source": []
  }
 ],
 "metadata": {
  "kernelspec": {
   "display_name": "Python 3 (ipykernel)",
   "language": "python",
   "name": "python3"
  },
  "language_info": {
   "codemirror_mode": {
    "name": "ipython",
    "version": 3
   },
   "file_extension": ".py",
   "mimetype": "text/x-python",
   "name": "python",
   "nbconvert_exporter": "python",
   "pygments_lexer": "ipython3",
   "version": "3.12.7"
  }
 },
 "nbformat": 4,
 "nbformat_minor": 5
}
